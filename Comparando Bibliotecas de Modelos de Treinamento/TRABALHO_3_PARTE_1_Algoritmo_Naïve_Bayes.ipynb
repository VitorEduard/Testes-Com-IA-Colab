{
  "nbformat": 4,
  "nbformat_minor": 0,
  "metadata": {
    "colab": {
      "provenance": []
    },
    "kernelspec": {
      "name": "python3",
      "display_name": "Python 3"
    },
    "language_info": {
      "name": "python"
    }
  },
  "cells": [
    {
      "cell_type": "markdown",
      "source": [
        "Alunos: Eduardo Philippe, Douglas Royer e Vítor Gabriel Eduardo"
      ],
      "metadata": {
        "id": "0TsqoCgMifOE"
      }
    },
    {
      "cell_type": "markdown",
      "source": [
        "# PARTE 1: Algoritmo Naïve Bayes"
      ],
      "metadata": {
        "id": "bsxKZMibIn9I"
      }
    },
    {
      "cell_type": "markdown",
      "source": [
        "Nesta primeira parte do Trabalho você irá aplicar o algoritmo de Naïve Bayes na base de dados de risco de crédito discutida em aula. Para isso você deve primeiramente importar as bibliotecas necessárias."
      ],
      "metadata": {
        "id": "u0xCSPlWjxXp"
      }
    },
    {
      "cell_type": "code",
      "execution_count": null,
      "metadata": {
        "id": "1Eg_7LI_Ih0X"
      },
      "outputs": [],
      "source": [
        "import pandas as pd\n",
        "import numpy as np\n",
        "import seaborn as sns\n",
        "import matplotlib.pyplot as plt\n",
        "import plotly.express as px"
      ]
    },
    {
      "cell_type": "code",
      "source": [
        "# importe a base de dados de risco de crédito e nomeie com: dataset_risco_credito\n",
        "\n",
        "dataset_risco_credito = pd.read_csv(\"dataset_risco_credito.csv\")"
      ],
      "metadata": {
        "id": "rSkj01fmJqN8"
      },
      "execution_count": null,
      "outputs": []
    },
    {
      "cell_type": "code",
      "source": [
        "# imprima a base de dados para uma primeira avaliação dos dados\n",
        "\n",
        "print(dataset_risco_credito)"
      ],
      "metadata": {
        "id": "ZMOcFXJwKzqv",
        "colab": {
          "base_uri": "https://localhost:8080/"
        },
        "outputId": "300e0b6a-ace2-45a1-c1e5-7b154ade5106"
      },
      "execution_count": null,
      "outputs": [
        {
          "output_type": "stream",
          "name": "stdout",
          "text": [
            "        historia divida garantias     renda     risco\n",
            "0           ruim   alta   nenhuma      0_15      alto\n",
            "1   desconhecida   alta   nenhuma     15_35      alto\n",
            "2   desconhecida  baixa   nenhuma     15_35  moderado\n",
            "3   desconhecida  baixa   nenhuma  acima_35      alto\n",
            "4   desconhecida  baixa   nenhuma  acima_35     baixo\n",
            "5   desconhecida  baixa  adequada  acima_35     baixo\n",
            "6           ruim  baixa   nenhuma      0_15      alto\n",
            "7           ruim  baixa  adequada  acima_35  moderado\n",
            "8            boa  baixa   nenhuma  acima_35     baixo\n",
            "9            boa   alta  adequada  acima_35     baixo\n",
            "10           boa   alta   nenhuma      0_15      alto\n",
            "11           boa   alta   nenhuma     15_35  moderado\n",
            "12           boa   alta   nenhuma  acima_35     baixo\n",
            "13          ruim   alta   nenhuma     15_35      alto\n"
          ]
        }
      ]
    },
    {
      "cell_type": "markdown",
      "source": [
        "# 1 - Pré-Processamento dos dados\n",
        "\n",
        "a) DIVISÃO DA BASE DE DADOS\n",
        "\n",
        "Separe a base de dados dataset_risco_credito em:\n",
        " - variável x, com nome: X_risco_credito\n",
        " - classe y, com nome: y_risco_credito\n",
        "\n",
        "DICA: você pode utilizar .iloc para selecionar as colunas da matriz e .values para converter para o numpy array.\n",
        "\n"
      ],
      "metadata": {
        "id": "T-Q73vWUM4Dv"
      }
    },
    {
      "cell_type": "code",
      "source": [
        "X_risco_credito = dataset_risco_credito.values[:,0:4]\n",
        "Y_risco_credito = dataset_risco_credito.values[:,4]\n",
        "#dataset_risco_credito.columns.to_list()\n",
        "print(X_risco_credito)\n",
        "print(Y_risco_credito)\n"
      ],
      "metadata": {
        "colab": {
          "base_uri": "https://localhost:8080/"
        },
        "id": "XFWRO3n-Sqa5",
        "outputId": "a25948cb-8b9b-468a-aaf5-a7d7c3eda6f2"
      },
      "execution_count": null,
      "outputs": [
        {
          "output_type": "stream",
          "name": "stdout",
          "text": [
            "[['ruim' 'alta' 'nenhuma' '0_15']\n",
            " ['desconhecida' 'alta' 'nenhuma' '15_35']\n",
            " ['desconhecida' 'baixa' 'nenhuma' '15_35']\n",
            " ['desconhecida' 'baixa' 'nenhuma' 'acima_35']\n",
            " ['desconhecida' 'baixa' 'nenhuma' 'acima_35']\n",
            " ['desconhecida' 'baixa' 'adequada' 'acima_35']\n",
            " ['ruim' 'baixa' 'nenhuma' '0_15']\n",
            " ['ruim' 'baixa' 'adequada' 'acima_35']\n",
            " ['boa' 'baixa' 'nenhuma' 'acima_35']\n",
            " ['boa' 'alta' 'adequada' 'acima_35']\n",
            " ['boa' 'alta' 'nenhuma' '0_15']\n",
            " ['boa' 'alta' 'nenhuma' '15_35']\n",
            " ['boa' 'alta' 'nenhuma' 'acima_35']\n",
            " ['ruim' 'alta' 'nenhuma' '15_35']]\n",
            "['alto' 'alto' 'moderado' 'alto' 'baixo' 'baixo' 'alto' 'moderado' 'baixo'\n",
            " 'baixo' 'alto' 'moderado' 'baixo' 'alto']\n"
          ]
        }
      ]
    },
    {
      "cell_type": "markdown",
      "source": [
        "b) APLICAR LABEL ENCODER\n",
        "\n",
        "Perceba que seus dados possuem atributos categóricos (string). Porém, para aplicar esses dados em um algoritmo de aprendizado você precisa transformá-lo em atributo numérico.\n",
        "\n",
        "Como você pode resolver isso?\n",
        "\n",
        "DICA: Veja o que é e como aplicar o Label Enconder em: https://youtu.be/nLKEkBAbpQo"
      ],
      "metadata": {
        "id": "6krg1qp5lICG"
      }
    },
    {
      "cell_type": "code",
      "source": [
        "# Apresente o resultado do label enconder\n",
        "from sklearn.preprocessing import LabelEncoder\n",
        "\n",
        "\n",
        "label_fit_historia = LabelEncoder().fit(X_risco_credito[:, 0])\n",
        "X_risco_credito[:, 0] = label_fit_historia.transform(X_risco_credito[:, 0]).astype('int')\n",
        "\n",
        "label_fit_divida = LabelEncoder().fit(X_risco_credito[:, 1])\n",
        "X_risco_credito[:, 1] = label_fit_divida.transform(X_risco_credito[:, 1]).astype('int')\n",
        "\n",
        "label_fit_garantia = LabelEncoder().fit(X_risco_credito[:, 2])\n",
        "X_risco_credito[:, 2] = label_fit_garantia.transform(X_risco_credito[:, 2]).astype('int')\n",
        "\n",
        "label_fit_renda = LabelEncoder().fit(X_risco_credito[:, 3])\n",
        "X_risco_credito[:, 3] = label_fit_renda.transform(X_risco_credito[:, 3]).astype('int')\n",
        "\n",
        "label_fit_risco = LabelEncoder().fit(Y_risco_credito[:])\n",
        "Y_risco_credito[:] = label_fit_risco.transform(Y_risco_credito[:])\n",
        "\n",
        "print(X_risco_credito)\n",
        "print(Y_risco_credito)\n",
        "\n"
      ],
      "metadata": {
        "id": "Vp11dT0xzhby",
        "colab": {
          "base_uri": "https://localhost:8080/"
        },
        "outputId": "5b38a228-d23a-4923-f8fb-b0abf9804619"
      },
      "execution_count": null,
      "outputs": [
        {
          "output_type": "stream",
          "name": "stdout",
          "text": [
            "[[2 0 1 0]\n",
            " [1 0 1 1]\n",
            " [1 1 1 1]\n",
            " [1 1 1 2]\n",
            " [1 1 1 2]\n",
            " [1 1 0 2]\n",
            " [2 1 1 0]\n",
            " [2 1 0 2]\n",
            " [0 1 1 2]\n",
            " [0 0 0 2]\n",
            " [0 0 1 0]\n",
            " [0 0 1 1]\n",
            " [0 0 1 2]\n",
            " [2 0 1 1]]\n",
            "[0 0 2 0 1 1 0 2 1 1 0 2 1 0]\n"
          ]
        }
      ]
    },
    {
      "cell_type": "markdown",
      "source": [
        "c) SALVAR O ARQUIVO PRÉ-PROCESSADO"
      ],
      "metadata": {
        "id": "7292E0hp965t"
      }
    },
    {
      "cell_type": "code",
      "source": [
        "# como salvar o arquivo:\n",
        "import pickle\n",
        "with open('risco_credito.pkl', 'wb') as f:\n",
        "  pickle.dump([X_risco_credito, Y_risco_credito], f)"
      ],
      "metadata": {
        "id": "vwAxug9UzljY"
      },
      "execution_count": null,
      "outputs": []
    },
    {
      "cell_type": "markdown",
      "source": [
        "# 2 - Algoritmo Naïve Bayes"
      ],
      "metadata": {
        "id": "KRRImr6L0S38"
      }
    },
    {
      "cell_type": "code",
      "source": [
        "# importar da biblioteca sklearn o pacote Nayve Bayes\n",
        "# utilizamos a distribuição estatística Gaussiana (classe GaussianNB) ou distribuição normal pois é mais usado para problemas genéricos\n",
        "from sklearn.naive_bayes import GaussianNB"
      ],
      "metadata": {
        "id": "BMMPnrNK0SZO"
      },
      "execution_count": null,
      "outputs": []
    },
    {
      "cell_type": "code",
      "source": [
        "# Criar o objeto Nayve Bayes\n",
        "naiveb_risco_credito = GaussianNB()"
      ],
      "metadata": {
        "id": "UEsASdJ41KiI"
      },
      "execution_count": null,
      "outputs": []
    },
    {
      "cell_type": "markdown",
      "source": [
        "a) TREINAR O ALGORITMO\n",
        "\n",
        "Para treinar o algoritmo, você deve gerar a tabela de probabilidades. Para isso, você pode utilizar **.fit** para gerar a tabela.\n",
        "\n",
        "DICA: O 1º parametro são os atributos/características (x) e o 2º parametro é a classe (y).\n",
        "\n",
        "OBS: Não se preocupe, o algoritmo faz a correção laplaciana automaticamente :) ."
      ],
      "metadata": {
        "id": "5X1JzYHVnp_L"
      }
    },
    {
      "cell_type": "code",
      "source": [
        "print(X_risco_credito)\n",
        "print(Y_risco_credito)\n",
        "\n",
        "\n",
        "naiveb_risco_credito.fit(X_risco_credito, Y_risco_credito.astype('int'))"
      ],
      "metadata": {
        "colab": {
          "base_uri": "https://localhost:8080/",
          "height": 343
        },
        "id": "6ITdquhXbj3b",
        "outputId": "0d644fcd-e6c5-4ecf-e5e8-8bf68129ecc6"
      },
      "execution_count": null,
      "outputs": [
        {
          "output_type": "stream",
          "name": "stdout",
          "text": [
            "[[2 0 1 0]\n",
            " [1 0 1 1]\n",
            " [1 1 1 1]\n",
            " [1 1 1 2]\n",
            " [1 1 1 2]\n",
            " [1 1 0 2]\n",
            " [2 1 1 0]\n",
            " [2 1 0 2]\n",
            " [0 1 1 2]\n",
            " [0 0 0 2]\n",
            " [0 0 1 0]\n",
            " [0 0 1 1]\n",
            " [0 0 1 2]\n",
            " [2 0 1 1]]\n",
            "[0 0 2 0 1 1 0 2 1 1 0 2 1 0]\n"
          ]
        },
        {
          "output_type": "execute_result",
          "data": {
            "text/plain": [
              "GaussianNB()"
            ],
            "text/html": [
              "<style>#sk-container-id-1 {color: black;background-color: white;}#sk-container-id-1 pre{padding: 0;}#sk-container-id-1 div.sk-toggleable {background-color: white;}#sk-container-id-1 label.sk-toggleable__label {cursor: pointer;display: block;width: 100%;margin-bottom: 0;padding: 0.3em;box-sizing: border-box;text-align: center;}#sk-container-id-1 label.sk-toggleable__label-arrow:before {content: \"▸\";float: left;margin-right: 0.25em;color: #696969;}#sk-container-id-1 label.sk-toggleable__label-arrow:hover:before {color: black;}#sk-container-id-1 div.sk-estimator:hover label.sk-toggleable__label-arrow:before {color: black;}#sk-container-id-1 div.sk-toggleable__content {max-height: 0;max-width: 0;overflow: hidden;text-align: left;background-color: #f0f8ff;}#sk-container-id-1 div.sk-toggleable__content pre {margin: 0.2em;color: black;border-radius: 0.25em;background-color: #f0f8ff;}#sk-container-id-1 input.sk-toggleable__control:checked~div.sk-toggleable__content {max-height: 200px;max-width: 100%;overflow: auto;}#sk-container-id-1 input.sk-toggleable__control:checked~label.sk-toggleable__label-arrow:before {content: \"▾\";}#sk-container-id-1 div.sk-estimator input.sk-toggleable__control:checked~label.sk-toggleable__label {background-color: #d4ebff;}#sk-container-id-1 div.sk-label input.sk-toggleable__control:checked~label.sk-toggleable__label {background-color: #d4ebff;}#sk-container-id-1 input.sk-hidden--visually {border: 0;clip: rect(1px 1px 1px 1px);clip: rect(1px, 1px, 1px, 1px);height: 1px;margin: -1px;overflow: hidden;padding: 0;position: absolute;width: 1px;}#sk-container-id-1 div.sk-estimator {font-family: monospace;background-color: #f0f8ff;border: 1px dotted black;border-radius: 0.25em;box-sizing: border-box;margin-bottom: 0.5em;}#sk-container-id-1 div.sk-estimator:hover {background-color: #d4ebff;}#sk-container-id-1 div.sk-parallel-item::after {content: \"\";width: 100%;border-bottom: 1px solid gray;flex-grow: 1;}#sk-container-id-1 div.sk-label:hover label.sk-toggleable__label {background-color: #d4ebff;}#sk-container-id-1 div.sk-serial::before {content: \"\";position: absolute;border-left: 1px solid gray;box-sizing: border-box;top: 0;bottom: 0;left: 50%;z-index: 0;}#sk-container-id-1 div.sk-serial {display: flex;flex-direction: column;align-items: center;background-color: white;padding-right: 0.2em;padding-left: 0.2em;position: relative;}#sk-container-id-1 div.sk-item {position: relative;z-index: 1;}#sk-container-id-1 div.sk-parallel {display: flex;align-items: stretch;justify-content: center;background-color: white;position: relative;}#sk-container-id-1 div.sk-item::before, #sk-container-id-1 div.sk-parallel-item::before {content: \"\";position: absolute;border-left: 1px solid gray;box-sizing: border-box;top: 0;bottom: 0;left: 50%;z-index: -1;}#sk-container-id-1 div.sk-parallel-item {display: flex;flex-direction: column;z-index: 1;position: relative;background-color: white;}#sk-container-id-1 div.sk-parallel-item:first-child::after {align-self: flex-end;width: 50%;}#sk-container-id-1 div.sk-parallel-item:last-child::after {align-self: flex-start;width: 50%;}#sk-container-id-1 div.sk-parallel-item:only-child::after {width: 0;}#sk-container-id-1 div.sk-dashed-wrapped {border: 1px dashed gray;margin: 0 0.4em 0.5em 0.4em;box-sizing: border-box;padding-bottom: 0.4em;background-color: white;}#sk-container-id-1 div.sk-label label {font-family: monospace;font-weight: bold;display: inline-block;line-height: 1.2em;}#sk-container-id-1 div.sk-label-container {text-align: center;}#sk-container-id-1 div.sk-container {/* jupyter's `normalize.less` sets `[hidden] { display: none; }` but bootstrap.min.css set `[hidden] { display: none !important; }` so we also need the `!important` here to be able to override the default hidden behavior on the sphinx rendered scikit-learn.org. See: https://github.com/scikit-learn/scikit-learn/issues/21755 */display: inline-block !important;position: relative;}#sk-container-id-1 div.sk-text-repr-fallback {display: none;}</style><div id=\"sk-container-id-1\" class=\"sk-top-container\"><div class=\"sk-text-repr-fallback\"><pre>GaussianNB()</pre><b>In a Jupyter environment, please rerun this cell to show the HTML representation or trust the notebook. <br />On GitHub, the HTML representation is unable to render, please try loading this page with nbviewer.org.</b></div><div class=\"sk-container\" hidden><div class=\"sk-item\"><div class=\"sk-estimator sk-toggleable\"><input class=\"sk-toggleable__control sk-hidden--visually\" id=\"sk-estimator-id-1\" type=\"checkbox\" checked><label for=\"sk-estimator-id-1\" class=\"sk-toggleable__label sk-toggleable__label-arrow\">GaussianNB</label><div class=\"sk-toggleable__content\"><pre>GaussianNB()</pre></div></div></div></div></div>"
            ]
          },
          "metadata": {},
          "execution_count": 9
        }
      ]
    },
    {
      "cell_type": "markdown",
      "source": [
        "b) FAZER A PREVISÃO\n",
        "\n",
        "Utilize **.predict** para fazer a previsão realizada no exemplo em sala.\n",
        "\n",
        "i) história boa, dívida alta, garantia nenhuma, renda > 35\n",
        "\n",
        "ii) história ruim, dívida alta, garantia adequada, renda < 15\n",
        "\n",
        "Verifique nos slides se seu resultado está correto!"
      ],
      "metadata": {
        "id": "l7HaCQ-po2BI"
      }
    },
    {
      "cell_type": "code",
      "source": [
        "# utilize o atributo .classes_ para mostrar as classes utilizadas pelo algoritmo\n",
        "\n",
        "# i) história boa, dívida alta, garantia nenhuma, renda > 35\n",
        "# ii) história ruim, dívida alta, garantia adequada, renda < 15\n",
        "X_risco_credito_test = np.array([['boa','alta','nenhuma','acima_35'], ['ruim','alta','adequada','0_15']])\n",
        "\n",
        "X_risco_credito_test[:,0] = label_fit_historia.transform(X_risco_credito_test[:,0])\n",
        "X_risco_credito_test[:,1] = label_fit_divida.transform(X_risco_credito_test[:,1])\n",
        "X_risco_credito_test[:,2] = label_fit_garantia.transform(X_risco_credito_test[:,2])\n",
        "X_risco_credito_test[:,3] = label_fit_renda.transform(X_risco_credito_test[:,3])\n",
        "print(X_risco_credito_test)\n",
        "\n",
        "Y_risco_credito_test = naiveb_risco_credito.predict(X_risco_credito_test.astype(int))\n",
        "print(label_fit_risco.inverse_transform(Y_risco_credito_test))\n",
        "print(naiveb_risco_credito.classes_)\n"
      ],
      "metadata": {
        "id": "zt1dlFdZ817K",
        "colab": {
          "base_uri": "https://localhost:8080/"
        },
        "outputId": "09f5ddc6-4bbc-4992-ea6f-11d863d661b9"
      },
      "execution_count": null,
      "outputs": [
        {
          "output_type": "stream",
          "name": "stdout",
          "text": [
            "[['0' '0' '1' '2']\n",
            " ['2' '0' '0' '0']]\n",
            "['baixo' 'moderado']\n",
            "[0 1 2]\n"
          ]
        }
      ]
    },
    {
      "cell_type": "code",
      "source": [
        "# utilize .class_count_ para contar quantos registros tem em cada classe\n",
        "classes = naiveb_risco_credito.class_count_\n",
        "\n",
        "print('Alto:', classes[0].astype(int))\n",
        "print('Baixo:', classes[1].astype(int))\n",
        "print('Moderado:', classes[2].astype(int))\n",
        "\n"
      ],
      "metadata": {
        "id": "_Yk0zzz284lv",
        "colab": {
          "base_uri": "https://localhost:8080/"
        },
        "outputId": "bfef648a-04c9-4fe5-8dbd-9e20aa451cf7"
      },
      "execution_count": null,
      "outputs": [
        {
          "output_type": "stream",
          "name": "stdout",
          "text": [
            "Alto: 6\n",
            "Baixo: 5\n",
            "Moderado: 3\n"
          ]
        }
      ]
    }
  ]
}