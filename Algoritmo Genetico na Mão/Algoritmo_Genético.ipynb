{
  "nbformat": 4,
  "nbformat_minor": 0,
  "metadata": {
    "colab": {
      "provenance": [],
      "collapsed_sections": [
        "lXYpaa2FBBYN",
        "KsL-B9rL-AR7"
      ]
    },
    "kernelspec": {
      "name": "python3",
      "display_name": "Python 3"
    },
    "language_info": {
      "name": "python"
    }
  },
  "cells": [
    {
      "cell_type": "code",
      "execution_count": null,
      "metadata": {
        "id": "F4-pRrAQ8B62",
        "colab": {
          "base_uri": "https://localhost:8080/",
          "height": 384
        },
        "outputId": "41ea1430-1ce7-4e9a-d961-cc8c1c498318"
      },
      "outputs": [
        {
          "output_type": "display_data",
          "data": {
            "text/plain": [
              "<Figure size 432x288 with 1 Axes>"
            ],
            "image/png": "[encoded data removed]"
          },
          "metadata": {
            "needs_background": "light"
          }
        },
        {
          "output_type": "stream",
          "name": "stdout",
          "text": [
            "Tamanho da População: 20\n",
            "Taxa de Mutação: 5\n",
            "Número de Cidades: 20\n",
            "Melhor Custo: 3.8640914768717542\n",
            "Melhor Solução: [14, 18, 8, 15, 2, 12, 9, 0, 1, 7, 10, 11, 19, 5, 16, 17, 6, 4, 13, 3, 14]\n"
          ]
        }
      ],
      "source": [
        "import random\n",
        "import numpy as np\n",
        "import math\n",
        "import sys\n",
        "from pylab import plot, show, title, xlabel, ylabel\n",
        "\n",
        "\n",
        "taxa_de_mutacao = 5 # taxa em porcentagem 1 - 100\n",
        "quantidade_iteracoes = 10000 # Quantidade de gerações que serão executadas\n",
        "distancia_cidades = [] # Array que irá conter os valores calculados das distâncias entre as cidades\n",
        "cromossos = []\n",
        "qtd_cromossomos = 20\n",
        "qtd_cidades = 20\n",
        "score_cromossos = []\n",
        "tabela_roleta = [\n",
        "                 9,\n",
        "                 8, 8,\n",
        "                 7, 7, 7,\n",
        "                 6, 6, 6, 6,\n",
        "                 5, 5, 5, 5, 5,\n",
        "                 4, 4, 4, 4, 4, 4,\n",
        "                 3, 3, 3, 3, 3, 3, 3,\n",
        "                 2, 2, 2, 2, 2, 2, 2, 2,\n",
        "                 1, 1, 1, 1, 1, 1, 1, 1, 1,\n",
        "                 0, 0, 0, 0, 0, 0, 0, 0, 0, 0] # Tabela que controla as chances de cada cromosso ser escolhido para a próxima geração\n",
        "cromossos_selecionados = []\n",
        "x = []\n",
        "y = []\n",
        "grafico_x = []\n",
        "grafico_y = []\n",
        "ultimo_melhor_valor = 99999999999999\n",
        "\n",
        "# Iniciando a matriz com valores aleatórios\n",
        "def init_matriz():\n",
        "  global cromossos\n",
        "  for cromossomo in range(qtd_cromossomos):\n",
        "    cromossoList = []\n",
        "    cidades = []\n",
        "    for i in range(qtd_cidades):\n",
        "      cidades.append(i)\n",
        "\n",
        "    for gene in range(qtd_cidades):\n",
        "      cidadeAleatoria = random.choice(cidades)\n",
        "      cidades.remove(cidadeAleatoria)\n",
        "      cromossoList.append(cidadeAleatoria)\n",
        "    cromossoList.append(cromossoList[0]) # Adicionando ponto de inicio no final, o caixeiro deve retornar ao ponto inicial\n",
        "    cromossos.append(cromossoList)\n",
        "\n",
        "def fill_matriz():\n",
        "  data = np.loadtxt('cidades.mat')\n",
        "  global x\n",
        "  global y\n",
        "  x = data[0]\n",
        "  y = data[1]\n",
        "\n",
        "# Calculando a distancia dos pontos entre as cidades dos cromossomos\n",
        "def calcular_distancia():\n",
        "  global distancia_cidades # Criando matriz para guardar as distâncias entre cada cidade dos cromossomos\n",
        "  distancia_cidades.clear()\n",
        "  for i in range(qtd_cromossomos):\n",
        "    distancia_cidades_list = []\n",
        "    for j in range(qtd_cidades):\n",
        "      p1 = cromossos[i][j]\n",
        "      p2 = cromossos[i][j+1]\n",
        "\n",
        "      dist = math.sqrt(((x[p1]-x[p2])**2)+((y[p1]-y[p2])**2)) # Calculando a distância entre cada cidade aqui e colocando na matriz da distância\n",
        "      distancia_cidades_list.append(dist)\n",
        "    distancia_cidades.append(distancia_cidades_list)\n",
        "\n",
        "# Somando as distâncias calculadas entre as cidades e gerando a lista de score dos cromossomos\n",
        "def somar_distancias():\n",
        "  global score_cromossos\n",
        "  score_cromossos.clear()\n",
        "  for i in distancia_cidades:\n",
        "    distancia_cidades_soma = 0\n",
        "    for distanciaCidade in i:\n",
        "      distancia_cidades_soma = distancia_cidades_soma + distanciaCidade # Soma das distâncias dos cromossomos\n",
        "    score_cromossos.append(distancia_cidades_soma) # Gerando a lista de score\n",
        "\n",
        "# Ordenando as matrizes dos cromossomos e scores usando método bubble\n",
        "def ordenar_cromossos_scores():\n",
        "  global score_cromossos, cromossos\n",
        "  for i in range(len(score_cromossos)-1, 0, -1):\n",
        "    for j in range(i):\n",
        "      if score_cromossos[j] > score_cromossos[j+1]: # Encontrou score para ocupar a posição mais a frente\n",
        "        score_cromosso_temp = score_cromossos[j] # Movendo o score pra frente da lista\n",
        "        score_cromossos[j] = score_cromossos[j+1]\n",
        "        score_cromossos[j+1] = score_cromosso_temp\n",
        "\n",
        "        cromosso_temp = cromossos[j] # Movendo o cromossomo pra frente da lista\n",
        "        cromossos[j] = cromossos[j+1]\n",
        "        cromossos[j+1] = cromosso_temp\n",
        "\n",
        "# Constroi lista de cromossos baseada na lista de cromossomos gerado pela roleta\n",
        "def selecionar_lista_roleta():\n",
        "  global tabela_roleta, cromossos_selecionados\n",
        "  tabela_roleta_copy = tabela_roleta.copy()\n",
        "  cromossos_selecionados = []\n",
        "  while(len(cromossos_selecionados) != 10):\n",
        "    num_cromosso_selecao = random.choice(tabela_roleta_copy)\n",
        "    cromossos_selecionados.append(num_cromosso_selecao)\n",
        "\n",
        "# Substitui a lista dos cromossos pelos cromossomos selecionados pela roleta\n",
        "def criar_lista_pais_selecionados():\n",
        "  global cromossos, cromossos_selecionados, score_cromossos\n",
        "  cromossos_copy = []\n",
        "  for cromosso_selecionado in cromossos_selecionados:\n",
        "    cromossos_copy.append(cromossos[cromosso_selecionado])\n",
        "  cromossos = cromossos_copy\n",
        "\n",
        "# Método usado para trocar os valores em casas expecificas nos descendentes\n",
        "def trocar_valores_descendentes(descendente_1, descendente_2, posicao):\n",
        "  valor_temp = descendente_1[posicao]\n",
        "  descendente_1[posicao] = descendente_2[posicao]\n",
        "  descendente_2[posicao] = valor_temp\n",
        "\n",
        "# Metodo que valida se o cromossos possui valor repetido(como se a mesma cidade fosse visitada duas vezes)\n",
        "def validar_se_repete_valor(array, posicao):\n",
        "  valor_posicao = array[posicao]\n",
        "  posicao_valor_repetido = -1\n",
        "  for i in range(len(array)):\n",
        "    valor = array[i]\n",
        "    if valor == valor_posicao and i != posicao:\n",
        "      posicao_valor_repetido = i\n",
        "      break\n",
        "  return posicao_valor_repetido\n",
        "\n",
        "# Método que executa a técnica de cycle\n",
        "def cycle(descendente_1, descendente_2, posicao_troca):\n",
        "  trocar_valores_descendentes(descendente_1, descendente_2, posicao_troca)\n",
        "  posicao_valor_repetido = validar_se_repete_valor(descendente_1, posicao_troca)\n",
        "  if posicao_valor_repetido != -1:\n",
        "    cycle(descendente_1, descendente_2, posicao_valor_repetido)\n",
        "  else:\n",
        "    posicao_valor_repetido = validar_se_repete_valor(descendente_2, posicao_troca)\n",
        "    if posicao_valor_repetido != -1:\n",
        "      cycle(descendente_1, descendente_2, posicao_valor_repetido)\n",
        "\n",
        "# Método que executada a mutação fazendo o chance de ser ou não executada alguma troca\n",
        "def mutacao(descendente):\n",
        "  num_random = random.randint(1, 100)\n",
        "  if num_random <= taxa_de_mutacao:\n",
        "    cidade_1 = random.randint(0, 19)\n",
        "    cidade_2 = -1\n",
        "    while True:\n",
        "      cidade_2 = random.randint(0, 19)\n",
        "      if cidade_1 != cidade_2:\n",
        "        break\n",
        "\n",
        "    cidade_temp = descendente[cidade_1]\n",
        "    descendente[cidade_1] = descendente[cidade_2]\n",
        "    descendente[cidade_2] = cidade_temp\n",
        "\n",
        "# Cria descendentes para a próxima geração usando a técnica de cycle e mutação\n",
        "def criar_descendentes():\n",
        "  global cromossos\n",
        "  for i in range(0, 10, 2):\n",
        "    posicao_randomica = random.randint(0, 19)\n",
        "    descendente_1 = cromossos[i].copy()\n",
        "    descendente_1.pop(qtd_cidades)\n",
        "    descendente_2 = cromossos[i+1].copy()\n",
        "    descendente_2.pop(qtd_cidades)\n",
        "    cycle(descendente_1, descendente_2, posicao_randomica)\n",
        "    mutacao(descendente_1)\n",
        "    descendente_1.append(descendente_1[0])\n",
        "    cromossos.append(descendente_1)\n",
        "    mutacao(descendente_2)\n",
        "    descendente_2.append(descendente_2[0])\n",
        "    cromossos.append(descendente_2)\n",
        "\n",
        "# Coloca um ponto no gráfico toda vez que um novo melhor valor é encontrado, também é gravado a ultima execução para o gráfico sempre mostrar todas as iterações no eixo x\n",
        "def marcar_no_grafico(iteracao, forca_entrada):\n",
        "  global score_cromossos, ultimo_melhor_valor\n",
        "  melhor_valor_score = score_cromossos[0]\n",
        "  if melhor_valor_score < ultimo_melhor_valor:\n",
        "    ultimo_melhor_valor = melhor_valor_score\n",
        "    grafico_x.append(iteracao)\n",
        "    grafico_y.append(melhor_valor_score)\n",
        "  elif forca_entrada:\n",
        "    grafico_x.append(iteracao)\n",
        "    grafico_y.append(ultimo_melhor_valor)\n",
        "\n",
        "# Cria o gráfico realmente e exibe ele no console\n",
        "def criar_grafico():\n",
        "  plot(grafico_x, grafico_y)\n",
        "  title('Gráfico do Algoritmo Genético')\n",
        "  xlabel('Família')\n",
        "  ylabel('Custo')\n",
        "  show()\n",
        "\n",
        "\n",
        "# Trecho de código que será iterado quantas vezes for necessário, sendo cada repetição do 'for' uma geração nova\n",
        "init_matriz()\n",
        "fill_matriz()\n",
        "for i in range(quantidade_iteracoes):\n",
        "  calcular_distancia()\n",
        "  somar_distancias()\n",
        "  ordenar_cromossos_scores()\n",
        "  marcar_no_grafico(i, False)\n",
        "  selecionar_lista_roleta()\n",
        "  criar_lista_pais_selecionados()\n",
        "  criar_descendentes()\n",
        "\n",
        "calcular_distancia()\n",
        "somar_distancias()\n",
        "ordenar_cromossos_scores()\n",
        "marcar_no_grafico(quantidade_iteracoes, True)\n",
        "criar_grafico()\n",
        "# Fim do trecho\n",
        "\n",
        "# Exibição dos resultados\n",
        "print('Tamanho da População:', qtd_cromossomos)\n",
        "print('Taxa de Mutação:', taxa_de_mutacao)\n",
        "print('Número de Cidades:', qtd_cidades)\n",
        "print('Melhor Custo:', score_cromossos[0])\n",
        "print('Melhor Solução:', cromossos[0])\n",
        "\n"
      ]
    },
    {
      "cell_type": "markdown",
      "source": [
        "# Exibir arquivo"
      ],
      "metadata": {
        "id": "lXYpaa2FBBYN"
      }
    },
    {
      "cell_type": "code",
      "source": [
        "import numpy as np\n",
        "\n",
        "data = np.loadtxt('cidades.mat')\n",
        "\n",
        "print(data)"
      ],
      "metadata": {
        "colab": {
          "base_uri": "https://localhost:8080/"
        },
        "id": "ipB0aussBCPc",
        "outputId": "884f67d2-737b-4acc-81db-509571a40050"
      },
      "execution_count": null,
      "outputs": [
        {
          "output_type": "stream",
          "name": "stdout",
          "text": [
            "[[0.77687122 0.55726533 0.65639441 0.60439895 0.10984792 0.30681839\n",
            "  0.03642046 0.50750194 0.79819788 0.79896875 0.1432694  0.07110193\n",
            "  0.7261315  0.22624105 0.62480412 0.54832279 0.39699388 0.07545496\n",
            "  0.67595097 0.07429705]\n",
            " [0.2794392  0.11661366 0.39053913 0.66616904 0.69857584 0.20730006\n",
            "  0.50247213 0.07393869 0.67991802 0.39749278 0.14151256 0.12773617\n",
            "  0.3719729  0.69033435 0.91890348 0.52333815 0.42525695 0.37166915\n",
            "  0.99033329 0.15694232]]\n"
          ]
        }
      ]
    },
    {
      "cell_type": "markdown",
      "source": [
        "# Nova seção"
      ],
      "metadata": {
        "id": "KsL-B9rL-AR7"
      }
    },
    {
      "cell_type": "code",
      "source": [
        "import sys\n",
        "\n",
        "print(sys.version)\n"
      ],
      "metadata": {
        "colab": {
          "base_uri": "https://localhost:8080/"
        },
        "id": "6wjBcMhi-B5T",
        "outputId": "07bc6750-3fac-47c6-c401-da75f547ee2f"
      },
      "execution_count": null,
      "outputs": [
        {
          "output_type": "stream",
          "name": "stdout",
          "text": [
            "3.7.15 (default, Oct 12 2022, 19:14:55) \n",
            "[GCC 7.5.0]\n"
          ]
        }
      ]
    }
  ]
}